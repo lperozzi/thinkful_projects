{
 "cells": [
  {
   "cell_type": "code",
   "execution_count": 1,
   "metadata": {
    "collapsed": false
   },
   "outputs": [],
   "source": [
    "from bs4 import BeautifulSoup\n",
    "import requests\n",
    "import numpy as np\n",
    "import pandas as pd\n",
    "\n",
    "# URL with data\n",
    "url = \"http://web.archive.org/web/20110514112442/http://unstats.un.org/unsd/demographic/products/socind/education.htm\"\n",
    "\n",
    "# Getting data from the web and storing for soup analysis\n",
    "r = requests.get(url)\n",
    "soup = BeautifulSoup(r.content)\n"
   ]
  },
  {
   "cell_type": "code",
   "execution_count": 2,
   "metadata": {
    "collapsed": false
   },
   "outputs": [],
   "source": [
    "data = []\n",
    "# I only consider the 7th table \n",
    "table = soup.findAll('table')[6]\n",
    "# I take only the 2nd table within the table where I have data I want\n",
    "table = table.findAll('table')[1]\n",
    "\n",
    "rows = table.findAll('tr')\n",
    "for row in rows:\n",
    "    # Iterate over column. This scripte take account for blank space too\n",
    "    cols = row.find_all('td')\n",
    "    # This allow me to remove all the tag between <>\n",
    "    cols = [ele.text.rstrip() for ele in cols]\n",
    "    data.append([ele for ele in cols]) \n",
    "\n",
    "# drop first 6 row\n",
    "data = data[5::]\n",
    "# I obtain a list of of list with 12 elements each, blank spaces \n",
    "# included.\n",
    "\n",
    "# Dataframe creation\n",
    "col = ['country','year','','','total','','','men','','','women','']\n",
    "df = pd.DataFrame(data,columns=col)\n",
    "# Drop blank column\n",
    "df.drop('', axis=1, inplace=True)\n",
    "# Transform string to int\n",
    "df.year = df['year'].apply(int)\n",
    "df.total = df['total'].apply(int)\n",
    "df.men = df['men'].apply(int)\n",
    "df.women = df['women'].apply(int)"
   ]
  },
  {
   "cell_type": "code",
   "execution_count": 3,
   "metadata": {
    "collapsed": false
   },
   "outputs": [
    {
     "name": "stdout",
     "output_type": "stream",
     "text": [
      "              year       total         men       women\n",
      "count   183.000000  183.000000  183.000000  183.000000\n",
      "mean   2006.672131   12.448087   12.393443   12.513661\n",
      "std       2.600008    3.053782    2.668160    3.683730\n",
      "min    1999.000000    5.000000    5.000000    4.000000\n",
      "25%    2005.500000   10.500000   11.000000   10.000000\n",
      "50%    2008.000000   13.000000   12.000000   13.000000\n",
      "75%    2008.000000   15.000000   14.000000   15.000000\n",
      "max    2010.000000   21.000000   20.000000   21.000000\n"
     ]
    }
   ],
   "source": [
    "# Why : Storing the data\n",
    "# Where : https://courses.thinkful.com/data-001v2/assignment/3.3.3\n",
    "\n",
    "# I do have a dataframe already, I do not need a sql table creation.\n",
    "men = df.men.describe()\n",
    "women = df.women.describe()\n",
    "\n",
    "print(df.describe())"
   ]
  }
 ],
 "metadata": {
  "kernelspec": {
   "display_name": "Python 2",
   "language": "python",
   "name": "python2"
  },
  "language_info": {
   "codemirror_mode": {
    "name": "ipython",
    "version": 2
   },
   "file_extension": ".py",
   "mimetype": "text/x-python",
   "name": "python",
   "nbconvert_exporter": "python",
   "pygments_lexer": "ipython2",
   "version": "2.7.9"
  }
 },
 "nbformat": 4,
 "nbformat_minor": 0
}
