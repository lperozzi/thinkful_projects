{
 "cells": [
  {
   "cell_type": "markdown",
   "metadata": {},
   "source": [
    "## Unit 03 Lesson 03\n",
    "####Why : Do Welthier countries provide better education?\n",
    "####Where : https://courses.thinkful.com/data-001v2/lesson/3.3"
   ]
  },
  {
   "cell_type": "code",
   "execution_count": 8,
   "metadata": {
    "collapsed": false
   },
   "outputs": [],
   "source": [
    "%matplotlib inline\n",
    "from bs4 import BeautifulSoup\n",
    "import requests\n",
    "import numpy as np\n",
    "import pandas as pd\n",
    "\n",
    "# URL with data\n",
    "url = \"http://web.archive.org/web/20110514112442/http://unstats.un.org/unsd/demographic/products/socind/education.htm\"\n",
    "\n",
    "# Getting data from the web and storing for soup analysis\n",
    "r = requests.get(url)\n",
    "soup = BeautifulSoup(r.content)\n"
   ]
  },
  {
   "cell_type": "code",
   "execution_count": 9,
   "metadata": {
    "collapsed": false
   },
   "outputs": [],
   "source": [
    "data = []\n",
    "# I only consider the 7th table \n",
    "table = soup.findAll('table')[6]\n",
    "# I take only the 2nd table within the table where I have data I want\n",
    "table = table.findAll('table')[1]\n",
    "\n",
    "rows = table.findAll('tr')\n",
    "for row in rows:\n",
    "    # Iterate over column. This scripte take account for blank space too\n",
    "    cols = row.find_all('td')\n",
    "    # This allow me to remove all the tag between <>\n",
    "    cols = [ele.text.rstrip() for ele in cols]\n",
    "    data.append([ele for ele in cols]) \n",
    "\n",
    "# drop first 6 row\n",
    "data = data[5::]\n",
    "# I obtain a list of of list with 12 elements each, blank spaces \n",
    "# included.\n",
    "\n",
    "# Dataframe creation\n",
    "col = ['country','year','','','total','','','men','','','women','']\n",
    "school_df = pd.DataFrame(data,columns=col)\n",
    "# Drop blank column\n",
    "school_df.drop('', axis=1, inplace=True)\n",
    "# Transform string to int\n",
    "school_df.year = school_df['year'].apply(int)\n",
    "school_df.total = school_df['total'].apply(int)\n",
    "school_df.men = school_df['men'].apply(int)\n",
    "school_df.women = school_df['women'].apply(int)\n",
    "school_df = school_df.set_index('country')"
   ]
  },
  {
   "cell_type": "markdown",
   "metadata": {},
   "source": [
    "## Create a gdp dataframe for years 1999 to 2010\n",
    "Starting from world bank .csv data, extract data for GDP for each country, in year range 1999 to 2010 in order to compare the GDP value with the school expectancy."
   ]
  },
  {
   "cell_type": "code",
   "execution_count": 33,
   "metadata": {
    "collapsed": false
   },
   "outputs": [],
   "source": [
    "# Why : Compare GDP to Educational Attainment\n",
    "# Where : https://courses.thinkful.com/data-001v2/project/3.3.4\n",
    "\n",
    "# Read the csv data (skip the first 2 rows)\n",
    "gdp_df_row = pd.read_csv('world bank data/ny.gdp.mktp.cd_Indicator_en_csv_v2.csv',skiprows=2)\n",
    "# Make a first dataframe for only Country name to indicator name column\n",
    "gdp_df1 = gdp_df_row.ix[:, 'Country Name']\n",
    "# Make a first dataframe for only years 1999 to 2010 (as the school life expectancy dataframe (school_df))\n",
    "gdp_df2 = gdp_df_row.ix[:, '1999':'2010']\n",
    "#  concatenate the two dataframe to create a unique dataframe\n",
    "gdp_df = pd.concat([gdp_df1, gdp_df2], axis=1)\n",
    "# rename the column 'Country Name' in 'country' to match the school_df\n",
    "gdp_df = gdp_df.rename(columns = {'Country Name':'country'})\n"
   ]
  },
  {
   "cell_type": "markdown",
   "metadata": {},
   "source": [
    "Now gdp_df is a dataframe with following columns: country | 1999 | 2000 | ... | 2010 , where for each year we have a GDP value. I need to reshape the dataframe in order to have 3 columns: Country | Year | GDP to make analysis with the schhol_df."
   ]
  },
  {
   "cell_type": "code",
   "execution_count": null,
   "metadata": {
    "collapsed": true
   },
   "outputs": [],
   "source": [
    "# reshape the dataframe (using stack fonction) in order to have 3 columns (Year | GDP | Country)\n",
    "id = gdp_df.ix[:, ['country']]\n",
    "gdp_df = pd.merge(gdp_df.stack(0).reset_index(1), id, left_index=True, right_index=True)\n",
    "gdp_df.columns = ['year','GDP','country']\n",
    "# delete first line of each country\n",
    "gdp_df = gdp_df[gdp_df.year != 'country']\n",
    "\n",
    "gdp_df = gdp_df.set_index('country')\n",
    "# Transform string to int\n",
    "gdp_df.year = gdp_df['year'].apply(int)\n",
    "gdp_df.GDP = gdp_df['GDP'].apply(int"
   ]
  },
  {
   "cell_type": "markdown",
   "metadata": {},
   "source": [
    " ## Using SQLite to store data and create the new table for analysis \n",
    " ####Why : Storing the data\n",
    " \n",
    " ####Where : https://courses.thinkful.com/data-001v2/assignment/3.3.3"
   ]
  },
  {
   "cell_type": "code",
   "execution_count": 12,
   "metadata": {
    "collapsed": false
   },
   "outputs": [],
   "source": [
    "# Why : Storing the data\n",
    "# Where : https://courses.thinkful.com/data-001v2/assignment/3.3.3\n",
    "\n",
    "# I do have a dataframe already, I do not need a sql table creation.\n",
    "# men = school_df.men.describe()\n",
    "# women = school_df.women.describe()\n",
    "\n",
    "# print(school_df.describe())\n",
    "\n",
    "import sqlite3\n",
    "\n",
    "# create and connect to a database\n",
    "conn = sqlite3.connect('education.db')\n",
    "\n",
    "# All interactions with the database are called querys\n",
    "# And they require to be used through a cursor\n",
    "c = conn.cursor()\n",
    "# The queries are applied using the .execute() method\n",
    "c.execute('DROP TABLE IF EXISTS school')\n",
    "c.execute('DROP TABLE IF EXISTS gdp')\n",
    "# Create a new table called school from pandas dataframe\n",
    "school_df.to_sql('school', conn)\n",
    "# Create a new table called gdp from pandas dataframe\n",
    "gdp_df.to_sql('gdp', conn)\n",
    "\n",
    "# Retrieve data merged in SQLITE (school table merged in SQLite with gdp table in order to keep only the GDP value \n",
    "# corresponding to the year of school expectancy)\n",
    "\n",
    "merged_df = pd.read_sql_query('''SELECT school.country, gdp.year, gdp.GDP, total, men, women \n",
    "                FROM gdp \n",
    "                INNER JOIN school \n",
    "                ON gdp.year=school.year AND gdp.country=school.country;''',conn)\n",
    "\n",
    "####### Comment LP ########\n",
    "# I do not really have idea to how adjust automaticlly the countries that do not match."
   ]
  },
  {
   "cell_type": "markdown",
   "metadata": {},
   "source": [
    " ## Plotting and analysis "
   ]
  },
  {
   "cell_type": "code",
   "execution_count": 29,
   "metadata": {
    "collapsed": false
   },
   "outputs": [
    {
     "data": {
      "text/plain": [
       "array([[<matplotlib.axes._subplots.AxesSubplot object at 0x10a753f90>,\n",
       "        <matplotlib.axes._subplots.AxesSubplot object at 0x110fd9bd0>],\n",
       "       [<matplotlib.axes._subplots.AxesSubplot object at 0x111189090>,\n",
       "        <matplotlib.axes._subplots.AxesSubplot object at 0x1111dfb10>],\n",
       "       [<matplotlib.axes._subplots.AxesSubplot object at 0x111262c50>,\n",
       "        <matplotlib.axes._subplots.AxesSubplot object at 0x10f5b17d0>]], dtype=object)"
      ]
     },
     "execution_count": 29,
     "metadata": {},
     "output_type": "execute_result"
    },
    {
     "data": {
      "image/png": "[encoded data removed]",
      "text/plain": [
       "<matplotlib.figure.Figure at 0x109d9e650>"
      ]
     },
     "metadata": {},
     "output_type": "display_data"
    },
    {
     "data": {
      "image/png": "[encoded data removed]",
      "text/plain": [
       "<matplotlib.figure.Figure at 0x10b74e190>"
      ]
     },
     "metadata": {},
     "output_type": "display_data"
    },
    {
     "data": {
      "image/png": "[encoded data removed]",
      "text/plain": [
       "<matplotlib.figure.Figure at 0x110f77150>"
      ]
     },
     "metadata": {},
     "output_type": "display_data"
    }
   ],
   "source": [
    "# Plotting scatterplot with and without logarithmic x axes as weel histograms of all variables to analyzing distributions\n",
    "\n",
    "merged_df.plot(x='GDP',y='total',kind='scatter',logx=True)\n",
    "merged_df.plot(x='GDP',y='total',kind='scatter')\n",
    "merged_df.hist()"
   ]
  },
  {
   "cell_type": "code",
   "execution_count": 26,
   "metadata": {
    "collapsed": false,
    "scrolled": true
   },
   "outputs": [
    {
     "name": "stdout",
     "output_type": "stream",
     "text": [
      "                            OLS Regression Results                            \n",
      "==============================================================================\n",
      "Dep. Variable:                  total   R-squared:                       0.054\n",
      "Model:                            OLS   Adj. R-squared:                  0.048\n",
      "Method:                 Least Squares   F-statistic:                     8.318\n",
      "Date:                Wed, 29 Jul 2015   Prob (F-statistic):            0.00452\n",
      "Time:                        09:34:42   Log-Likelihood:                -369.43\n",
      "No. Observations:                 147   AIC:                             742.9\n",
      "Df Residuals:                     145   BIC:                             748.8\n",
      "Df Model:                           1                                         \n",
      "Covariance Type:            nonrobust                                         \n",
      "==============================================================================\n",
      "                 coef    std err          t      P>|t|      [95.0% Conf. Int.]\n",
      "------------------------------------------------------------------------------\n",
      "Intercept     12.2090      0.264     46.254      0.000        11.687    12.731\n",
      "GDP         1.063e-12   3.68e-13      2.884      0.005      3.34e-13  1.79e-12\n",
      "==============================================================================\n",
      "Omnibus:                        0.967   Durbin-Watson:                   1.975\n",
      "Prob(Omnibus):                  0.617   Jarque-Bera (JB):                1.059\n",
      "Skew:                          -0.182   Prob(JB):                        0.589\n",
      "Kurtosis:                       2.798   Cond. No.                     7.62e+11\n",
      "==============================================================================\n",
      "\n",
      "Warnings:\n",
      "[1] Standard Errors assume that the covariance matrix of the errors is correctly specified.\n",
      "[2] The condition number is large, 7.62e+11. This might indicate that there are\n",
      "strong multicollinearity or other numerical problems.\n",
      "The correlation between GDP and expectancy is only  of 0.05\n"
     ]
    }
   ],
   "source": [
    "# Doing some analysis, fit a model\n",
    "# Ordinary Least Squares = Linear Regression\n",
    "import statsmodels.formula.api as smf\n",
    "\n",
    "model = smf.ols(formula=\"total ~ GDP\", data=merged_df)\n",
    "fitted_model = model.fit()\n",
    "corr = fitted_model.rsquared_adj\n",
    "print fitted_model.summary()\n",
    "print \"The correlation between GDP and expectancy is only  of {0:.2f}\".format(corr)\n"
   ]
  }
 ],
 "metadata": {
  "kernelspec": {
   "display_name": "Python 2",
   "language": "python",
   "name": "python2"
  },
  "language_info": {
   "codemirror_mode": {
    "name": "ipython",
    "version": 2
   },
   "file_extension": ".py",
   "mimetype": "text/x-python",
   "name": "python",
   "nbconvert_exporter": "python",
   "pygments_lexer": "ipython2",
   "version": "2.7.9"
  }
 },
 "nbformat": 4,
 "nbformat_minor": 0
}
