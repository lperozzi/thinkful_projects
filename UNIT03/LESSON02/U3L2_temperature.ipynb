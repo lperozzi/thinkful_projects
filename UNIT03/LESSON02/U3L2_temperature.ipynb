{
 "cells": [
  {
   "cell_type": "code",
   "execution_count": 17,
   "metadata": {
    "collapsed": true
   },
   "outputs": [],
   "source": [
    "%matplotlib inline"
   ]
  },
  {
   "cell_type": "code",
   "execution_count": 19,
   "metadata": {
    "collapsed": false
   },
   "outputs": [],
   "source": [
    "import numpy as np\n",
    "import matplotlib.pyplot as plt\n",
    "plt.style.use('ggplot')\n",
    "import datetime\n",
    "import requests\n",
    "from pandas.io.json import json_normalize\n",
    "import webbrowser\n",
    "import sqlite3\n",
    "import pandas as pd\n",
    "import collections\n",
    "import far2cel\n",
    "\n",
    "\n",
    "\n",
    "# URL format for the API request\n",
    "# https://api.forecast.io/forecast/APIKEY/LATITUDE,LONGITUDE,TIME\n",
    "\n",
    "# Defining fucntion that converts Fahrenheit to Celsius degree as I work in Celisus degree\n",
    "def far2cel(far):\n",
    "    #Converting Fahrenheit to Celsius\n",
    "    cel=(far - 32) / 1.8\n",
    "    return cel"
   ]
  },
  {
   "cell_type": "markdown",
   "metadata": {},
   "source": [
    "### Challenge"
   ]
  },
  {
   "cell_type": "markdown",
   "metadata": {},
   "source": [
    "1) Build the API call by combining the string elements in Python for your first city"
   ]
  },
  {
   "cell_type": "code",
   "execution_count": 29,
   "metadata": {
    "collapsed": false
   },
   "outputs": [],
   "source": [
    "# dictionariy of cities\n",
    "citta = {\"Lugano\": '46.0030,8.9513',\n",
    "         \"Lausanne\": '46.5196,6.6322',\n",
    "         \"Roma\": '41.9031,12.4958',\n",
    "         \"Quebec\": '46.8221,-71.2231',\n",
    "         \"Ottawa\": '45.4594,-75.5184',\n",
    "         \"Vancouver\": '49.2604,-123.1133'}\n",
    "\n",
    "# Lugano : Switzerland\n",
    "# Lausanne : Switzerland\n",
    "# Rome : Italy\n",
    "# Quebec : East Canada\n",
    "# Ottawa : East Canada\n",
    "# Vancouver : Ouest Canada\n",
    "\n",
    "# my API key for foricast.io\n",
    "API_key = 'bd65082df114cd750f5541445ec7710f'\n",
    "\n",
    "# base url for the API call\n",
    "base_url = 'https://api.forecast.io/forecast/'\n",
    "\n",
    "# SPRING and FALL start time and date in UNIX format\n",
    "now_spring = datetime.date(2015, 5, 17)\n",
    "now_fall = datetime.date(2014, 10, 17)"
   ]
  },
  {
   "cell_type": "markdown",
   "metadata": {},
   "source": [
    "2) Test the call for your first city and make sure you have it formatted properly"
   ]
  },
  {
   "cell_type": "code",
   "execution_count": 30,
   "metadata": {
    "collapsed": false
   },
   "outputs": [
    {
     "data": {
      "text/plain": [
       "True"
      ]
     },
     "execution_count": 30,
     "metadata": {},
     "output_type": "execute_result"
    }
   ],
   "source": [
    "# API call for the first city\n",
    "API_call = base_url + API_key + '/' + citta[\"Lugano\"] + ',' + now_spring.strftime('%s')\n",
    "\n",
    "# Open the API call in the broweser\n",
    "webbrowser.open_new(API_call)"
   ]
  },
  {
   "cell_type": "markdown",
   "metadata": {},
   "source": [
    "3a) Once you have the URL formatted properly, issue the request from your code and inspect the result. How many levels does the data have? "
   ]
  },
  {
   "cell_type": "code",
   "execution_count": 31,
   "metadata": {
    "collapsed": false
   },
   "outputs": [
    {
     "name": "stdout",
     "output_type": "stream",
     "text": [
      "The level below the root in the API call are 8\n"
     ]
    }
   ],
   "source": [
    "r = requests.get(API_call)\n",
    "\n",
    "# To check how many levels we have in the data below the root level\n",
    "print 'The level below the root in the API call are {0}'.format(len(r.json().keys()))"
   ]
  },
  {
   "cell_type": "markdown",
   "metadata": {
    "collapsed": true
   },
   "source": [
    "3b) Which field do we want to save to get the daily maximum temperature?\n"
   ]
  },
  {
   "cell_type": "code",
   "execution_count": 32,
   "metadata": {
    "collapsed": false,
    "scrolled": true
   },
   "outputs": [
    {
     "name": "stdout",
     "output_type": "stream",
     "text": [
      "26.0666666667\n"
     ]
    }
   ],
   "source": [
    "# The field daily has a keys data and a values that is a list of dictionary\n",
    "daily = r.json()['daily']['data']\n",
    "\n",
    "# The list of dictionary contains a keys 'temperatureMax'\n",
    "for x in daily:\n",
    "    t_max = far2cel(x[\"temperatureMax\"])\n",
    "    print t_max"
   ]
  },
  {
   "cell_type": "markdown",
   "metadata": {},
   "source": [
    "4-5) Based on the data sample, create the table in a SQLite database called \"weather.db\". Based on the data sample, create the table in a SQLite database called \"weather.db\"."
   ]
  },
  {
   "cell_type": "code",
   "execution_count": 7,
   "metadata": {
    "collapsed": false
   },
   "outputs": [],
   "source": [
    "# create and connect to a database\n",
    "conn = sqlite3.connect('weather.db')\n",
    "\n",
    "# All interactions with the database are called querys\n",
    "# And they require to be used through a cursor\n",
    "c = conn.cursor()\n",
    "\n",
    "# The queries are applied using the .execute() method\n",
    "c.execute('DROP TABLE IF EXISTS citta')\n",
    "\n",
    "# Create a new table called citta (cities in italian) \n",
    "c.execute('''CREATE TABLE citta (city_name text, lat_lon float)''')\n",
    "\n",
    "# Insert the values of citta into the tables\n",
    "c.executemany(\"INSERT INTO citta VALUES (?, ?)\", citta.items())\n",
    "\n",
    "# Save (commit) the changes to the database\n",
    "conn.commit() "
   ]
  },
  {
   "cell_type": "markdown",
   "metadata": {},
   "source": [
    "5-6) Write a script that takes each city and queries every day for the past 60 days (more interesting) in spring and save the avg temperature values to the table, keyed on the date. I will do the same with fall time and compare the results."
   ]
  },
  {
   "cell_type": "code",
   "execution_count": 8,
   "metadata": {
    "collapsed": false
   },
   "outputs": [],
   "source": [
    "# The queries are applied using the .execute() method\n",
    "# Delete existing table\n",
    "c.execute('DROP TABLE IF EXISTS daily_avg_spring')\n",
    "c.execute('DROP TABLE IF EXISTS daily_avg_fall')\n",
    "\n",
    "# create a new tables to store daily_avg temperature for each citta in SPRING and FALL\n",
    "c.execute('CREATE TABLE daily_avg_spring (date int, Lugano float, Lausanne float, Roma float, Quebec float, Ottawa float, Vancouver float)''')\n",
    "c.execute('CREATE TABLE daily_avg_fall (date int, Lugano float, Lausanne float, Roma float, Quebec float, Ottawa float, Vancouver float)''')\n",
    "\n",
    "# Retrieve data from sql database\n",
    "df = pd.read_sql_query('SELECT * FROM citta',conn)\n",
    "\n",
    "# Latitude et Longitude to list\n",
    "geo = df['lat_lon'].tolist()\n",
    "\n",
    "# Set the strting date of measurmeents (60 days before now_spring) for SPRING and FALL\n",
    "date_spring = now_spring - datetime.timedelta(days=60)\n",
    "date_fall = now_fall - datetime.timedelta(days=60)\n",
    "\n",
    "################# Insert date into the SPRING daily_avg table ##########################\n",
    "########################################################################################\n",
    "with conn:\n",
    "    while date_spring <= now_spring:\n",
    "        c.execute('INSERT INTO daily_avg_spring(date) VALUES (?)', (int(date_spring.strftime('%s')),))\n",
    "        date_spring += datetime.timedelta(days=1)\n",
    "    \n",
    "for k,v in citta.iteritems():\n",
    "    date_spring = now_spring - datetime.timedelta(days=60)\n",
    "    while date_spring <= now_spring:\n",
    "        API = base_url + API_key + '/' + v + ',' + date_spring.strftime('%s')\n",
    "        s = requests.get(API)\n",
    "            \n",
    "        daily = s.json()['daily']['data']\n",
    "        # The list of dictionary contains a keys 'temperatureMax'\n",
    "        for x in daily:\n",
    "            t_max = far2cel(x[\"temperatureMax\"])\n",
    "        with conn:\n",
    "            #insert the temperature max to the database\n",
    "            c.execute('UPDATE daily_avg_spring SET ' + k + ' = ' + str(round(t_max,1)) + ' WHERE date = ' + date_spring.strftime('%s'))\n",
    "                \n",
    "        date_spring += datetime.timedelta(days=1)  \n",
    "\n",
    "################# Insert date into the FALL daily_avg table ##########################\n",
    "########################################################################################\n",
    "with conn:\n",
    "    while date_fall <= now_fall:\n",
    "        c.execute('INSERT INTO daily_avg_fall(date) VALUES (?)', (int(date_fall.strftime('%s')),))\n",
    "        date_fall += datetime.timedelta(days=1)\n",
    "    \n",
    "for k,v in citta.iteritems():\n",
    "    date_fall = now_fall - datetime.timedelta(days=60)\n",
    "    while date_fall <= now_fall:\n",
    "        API = base_url + API_key + '/' + v + ',' + date_fall.strftime('%s')\n",
    "        f = requests.get(API)\n",
    "            \n",
    "        daily = f.json()['daily']['data']\n",
    "        # The list of dictionary contains a keys 'temperatureMax'\n",
    "        for x in daily:\n",
    "            t_max = far2cel(x[\"temperatureMax\"])\n",
    "        with conn:\n",
    "            #insert the temperature max to the database\n",
    "            c.execute('UPDATE daily_avg_fall SET ' + k + ' = ' + str(round(t_max,1)) + ' WHERE date = ' + date_fall.strftime('%s'))\n",
    "                \n",
    "        date_fall += datetime.timedelta(days=1)\n",
    "\n",
    "conn.commit()\n",
    "conn.close()        "
   ]
  },
  {
   "cell_type": "markdown",
   "metadata": {},
   "source": [
    "What's the range of temperatures for each city? What is the mean temperature for each city? What's the variance? Are there any patterns in the data? Which cities had the largest temperature changes over the time period?"
   ]
  },
  {
   "cell_type": "code",
   "execution_count": 9,
   "metadata": {
    "collapsed": true
   },
   "outputs": [],
   "source": [
    "# create and connect to a database\n",
    "conn = sqlite3.connect('weather.db')\n",
    "# All interactions with the database are called querys\n",
    "# And they require to be used through a cursor\n",
    "c = conn.cursor()\n",
    "# Retrieve data from sql database for SPRING and FALL\n",
    "df_spring = pd.read_sql_query('SELECT * FROM daily_avg_spring',conn)\n",
    "df_fall = pd.read_sql_query('SELECT * FROM daily_avg_fall',conn)\n",
    "\n",
    "# Drop column date as I'm not interested in its stats\n",
    "df_spring.drop('date', axis=1, inplace=True)\n",
    "df_fall.drop('date', axis=1, inplace=True)"
   ]
  },
  {
   "cell_type": "code",
   "execution_count": 10,
   "metadata": {
    "collapsed": false
   },
   "outputs": [
    {
     "name": "stdout",
     "output_type": "stream",
     "text": [
      "The range temperature in Spring for Lugano is 18.6\n",
      "The range temperature in Spring for Ottawa is 37.8\n",
      "The range temperature in Spring for Lausanne is 18.2\n",
      "The range temperature in Spring for Vancouver is 11.5\n",
      "The range temperature in Spring for Quebec is 37.1\n",
      "The range temperature in Spring for Roma is 20.4\n",
      "The mean temperature in Spring for Lugano is 18.4\n",
      "The mean temperature in Spring for Ottawa is 11.9\n",
      "The mean temperature in Spring for Lausanne is 14.8\n",
      "The mean temperature in Spring for Vancouver is 13.4\n",
      "The mean temperature in Spring for Quebec is 8.6\n",
      "The mean temperature in Spring for Roma is 20.7\n",
      "The temperature  variance in Spring for Lugano is 18.4\n",
      "The temperature  variance in Spring for Ottawa is 11.9\n",
      "The temperature  variance in Spring for Lausanne is 14.8\n",
      "The temperature  variance in Spring for Vancouver is 13.4\n",
      "The temperature  variance in Spring for Quebec is 8.6\n",
      "The temperature  variance in Spring for Roma is 20.7\n",
      "The range temperature in Fall for Lugano is 14.7\n",
      "The range temperature in Fall for Ottawa is 18.9\n",
      "The range temperature in Fall for Lausanne is 9.2\n",
      "The range temperature in Fall for Vancouver is 18.5\n",
      "The range temperature in Fall for Quebec is 20.4\n",
      "The range temperature in Fall for Roma is 8.2\n",
      "The mean temperature in Fall for Lugano is 21.9\n",
      "The mean temperature in Fall for Ottawa is 20.6\n",
      "The mean temperature in Fall for Lausanne is 19.6\n",
      "The mean temperature in Fall for Vancouver is 19.8\n",
      "The mean temperature in Fall for Quebec is 18.3\n",
      "The mean temperature in Fall for Roma is 27.1\n",
      "The temperature  variance in Fall for Lugano is 21.9\n",
      "The temperature  variance in Fall for Ottawa is 20.6\n",
      "The temperature  variance in Fall for Lausanne is 19.6\n",
      "The temperature  variance in Fall for Vancouver is 19.8\n",
      "The temperature  variance in Fall for Quebec is 18.3\n",
      "The temperature  variance in Fall for Roma is 27.1\n"
     ]
    }
   ],
   "source": [
    "##################  Compute basics stats for both dataframes ################# \n",
    "##############################################################################\n",
    "\n",
    "# Spring\n",
    "\n",
    "rge_s = {}\n",
    "mean_s = {}\n",
    "var_s = {}\n",
    "\n",
    "for key in df_spring.keys():\n",
    "    # compute the stats\n",
    "    rge_s[key] = df_spring[key].max()-df_spring[key].min()\n",
    "    mean_s[key] = df_spring[key].mean()\n",
    "    var_s[key] = df_spring[key].var()\n",
    "    \n",
    "for key,val in rge_s.items():\n",
    "    print 'The range temperature in Spring for' ,key,  'is'  ,val\n",
    "for key,val in mean_s.items():\n",
    "    print 'The mean temperature in Spring for' ,key,  'is'  ,round(val,1)\n",
    "for key,val in mean_s.items():\n",
    "    print 'The temperature  variance in Spring for' ,key,  'is'  ,round(val,1)\n",
    "    \n",
    "# Fall\n",
    "\n",
    "rge_f = {}\n",
    "mean_f = {}\n",
    "var_f = {}\n",
    "\n",
    "for key in df_fall.keys():\n",
    "    # compute the stats\n",
    "    rge_f[key] = df_fall[key].max()-df_fall[key].min()\n",
    "    mean_f[key] = df_fall[key].mean()\n",
    "    var_f[key] = df_fall[key].std()\n",
    "    \n",
    "for key,val in rge_f.items():\n",
    "    print 'The range temperature in Fall for' ,key,  'is'  ,val\n",
    "for key,val in mean_f.items():\n",
    "    print 'The mean temperature in Fall for' ,key,  'is'  ,round(val,1)\n",
    "for key,val in mean_f.items():\n",
    "    print 'The temperature  variance in Fall for' ,key,  'is'  ,round(val,1)"
   ]
  },
  {
   "cell_type": "markdown",
   "metadata": {},
   "source": [
    "Find the greatest range in avg temperatures in the months you measured for Spring and Fall time. Which city had the greatest variation? "
   ]
  },
  {
   "cell_type": "code",
   "execution_count": 11,
   "metadata": {
    "collapsed": false
   },
   "outputs": [],
   "source": [
    "# intiate dict of monthly temperature change for spring and fall\n",
    "monthly_change_spring = collections.defaultdict(int)\n",
    "monthly_change_fall = collections.defaultdict(int)\n",
    "\n",
    "# iterate over df_spring.columns\n",
    "for col in df_spring.columns:\n",
    "    # put the dataframe of [col] in a list\n",
    "    temp_val = df_spring[col].tolist()\n",
    "    # initial values for temperature change\n",
    "    temp_change = 0\n",
    "    # iterate over col list using enumerate. Using enumerate we obtain a \n",
    "    # a key index (k) for each value of the list\n",
    "    for k,v in enumerate(temp_val):\n",
    "        if k < len(temp_val) -1:\n",
    "            # update temp_change adding the difference between k+1 and k\n",
    "            temp_change += abs(temp_val[k] - temp_val[k+1])\n",
    "            # assign the value to the monthly_change dictionary\n",
    "            monthly_change_spring[col] = temp_change    \n",
    "            \n",
    "# iterate over df_fall.columns\n",
    "for col in df_fall.columns:\n",
    "    # put the dataframe of [col] in a list\n",
    "    temp_val = df_fall[col].tolist()\n",
    "    # initial values for temperature change\n",
    "    temp_change = 0\n",
    "    # iterate over col list using enumerate. Using enumerate we obtain a \n",
    "    # a key index (k) for each value of the list\n",
    "    for k,v in enumerate(temp_val):\n",
    "        if k < len(temp_val) -1:\n",
    "            # update temp_change adding the difference between k+1 and k\n",
    "            temp_change += abs(temp_val[k] - temp_val[k+1])\n",
    "            # assign the value to the monthly_change dictionary\n",
    "            monthly_change_fall[col] = temp_change  \n",
    "    "
   ]
  },
  {
   "cell_type": "markdown",
   "metadata": {},
   "source": [
    "And the winner is? "
   ]
  },
  {
   "cell_type": "code",
   "execution_count": 12,
   "metadata": {
    "collapsed": false
   },
   "outputs": [
    {
     "name": "stdout",
     "output_type": "stream",
     "text": [
      "The city with the greater temeprature variation in Spring is Quebec\n",
      "The city with the greater temeprature variation in Fall is Ottawa\n"
     ]
    }
   ],
   "source": [
    "max_variation_spring = max(monthly_change_spring, key=monthly_change_spring.get)\n",
    "max_variation_fall = max(monthly_change_fall, key=monthly_change_fall.get)\n",
    "\n",
    "print 'The city with the greater temeprature variation in Spring is ' + max_variation_spring\n",
    "print 'The city with the greater temeprature variation in Fall is ' + max_variation_fall"
   ]
  },
  {
   "cell_type": "markdown",
   "metadata": {
    "collapsed": false
   },
   "source": [
    "What is the distribution of the difference? Does the result surprise you?"
   ]
  },
  {
   "cell_type": "code",
   "execution_count": 21,
   "metadata": {
    "collapsed": false,
    "scrolled": true
   },
   "outputs": [
    {
     "data": {
      "text/plain": [
       "<matplotlib.axes._subplots.AxesSubplot at 0x10d034ed0>"
      ]
     },
     "execution_count": 21,
     "metadata": {},
     "output_type": "execute_result"
    },
    {
     "data": {
      "image/png": "[encoded data removed]",
      "text/plain": [
       "<matplotlib.figure.Figure at 0x10c4a0390>"
      ]
     },
     "metadata": {},
     "output_type": "display_data"
    }
   ],
   "source": [
    "# Create an empty dataframe called monthly_temp_change to store the daily difference for \n",
    "# Spring and Fall\n",
    "columns = df_spring.columns.tolist()\n",
    "daily_temp_diff_spring=pd.DataFrame(data=np.zeros((0,len(columns))), columns=columns)\n",
    "daily_temp_diff_fall=pd.DataFrame(data=np.zeros((0,len(columns))), columns=columns)\n",
    "\n",
    "# Spring\n",
    "# iterate over df.columns\n",
    "for col in df_spring.columns:\n",
    "    # put the dataframe of [col] in a list\n",
    "    temp_val = df_spring[col].tolist()\n",
    "    temp_diff = [abs(temp_val[n]-temp_val[n-1]) for n in range(1,len(temp_val))]\n",
    "    # Populate the dataframe with temp_diff relatives to col\n",
    "    daily_temp_diff_spring[col] = temp_diff \n",
    "    \n",
    "# Fall\n",
    "# iterate over df.columns\n",
    "for col in df_fall.columns:\n",
    "    # put the dataframe of [col] in a list\n",
    "    temp_val = df_fall[col].tolist()\n",
    "    temp_diff = [abs(temp_val[n]-temp_val[n-1]) for n in range(1,len(temp_val))]\n",
    "    # Populate the dataframe with temp_diff relatives to col\n",
    "    daily_temp_diff_fall[col] = temp_diff\n",
    "\n",
    "# Subplot the histograms for each cities for spring and fall\n",
    "# daily_temp_diff_spring.plot(kind='hist',color='red',subplots=True,figsize=(6,6),bins=10)\n",
    "# daily_temp_diff_fall.plot(kind='hist',color='blue',subplots=True,figsize=(6,6),bins=10)\n",
    "\n",
    "# Boxplots for each cities for spring and fall\n",
    "fig, (ax1,ax2) = plt.subplots(1, 2,figsize=(10,6))\n",
    "daily_temp_diff_spring.plot(kind='box',title='Spring',ax=ax1,)\n",
    "daily_temp_diff_fall.plot(kind='box',title='Fall',ax=ax2)"
   ]
  },
  {
   "cell_type": "markdown",
   "metadata": {},
   "source": [
    "### Spring data analysis\n",
    "\n",
    "The distributions is similar for Lugano, Lausanne Roma and Vancouver, with the mean value\n",
    "around two. However, for Quebec and Ottawa, the mean daily difference is slightly high,\n",
    "meaning there is a greater gap between daily temp. This two cities shows also a greater variability\n",
    "in daily temperature\n",
    "\n",
    "### Fall data analysis\n",
    "\n",
    "In Fall, the daily mean difference value for Quebec and Ottawa is in the same range than \n",
    "the other cities. However they still show graeter variability compared to the other cities.\n",
    "\n",
    "### Final conclusion\n",
    "\n",
    "We have more chance to have a 'hot' day followed by a 'chill' day in Ottawa, than in Lausanne even though they are at the same latitutde."
   ]
  }
 ],
 "metadata": {
  "kernelspec": {
   "display_name": "Python 2",
   "language": "python",
   "name": "python2"
  },
  "language_info": {
   "codemirror_mode": {
    "name": "ipython",
    "version": 2
   },
   "file_extension": ".py",
   "mimetype": "text/x-python",
   "name": "python",
   "nbconvert_exporter": "python",
   "pygments_lexer": "ipython2",
   "version": "2.7.9"
  }
 },
 "nbformat": 4,
 "nbformat_minor": 0
}
